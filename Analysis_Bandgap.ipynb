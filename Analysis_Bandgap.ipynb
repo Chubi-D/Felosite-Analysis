{
 "cells": [
  {
   "cell_type": "code",
   "execution_count": 625,
   "metadata": {},
   "outputs": [],
   "source": [
    "import pandas as pd\n",
    "import numpy as np\n",
    "import matplotlib.pyplot as plt\n",
    "import scipy.optimize as spopt\n",
    "import os\n",
    "import plotly.graph_objects as go"
   ]
  },
  {
   "cell_type": "code",
   "execution_count": 626,
   "metadata": {},
   "outputs": [],
   "source": [
    "# Creatin a linear regression function.\n",
    "def average(inarray, avlen):\n",
    "    \n",
    "    arrlen = inarray.size\n",
    "    \n",
    "    outarray = np.zeros(int(arrlen//avlen))\n",
    "    \n",
    "    for i in range(0, int(arrlen//avlen)):\n",
    "        for j in range(0, int(avlen)):\n",
    "            outarray[i] += inarray[int(avlen)*i+j]/avlen\n",
    "    \n",
    "    return outarray\n",
    "\n",
    "def linear(x, a, b):\n",
    "    return a*x + b"
   ]
  },
  {
   "cell_type": "code",
   "execution_count": 627,
   "metadata": {},
   "outputs": [],
   "source": [
    "#Constants\n",
    "h = 4.135667696E-15 #eV s\n",
    "c = 3E17 #nm/s "
   ]
  },
  {
   "cell_type": "code",
   "execution_count": null,
   "metadata": {},
   "outputs": [],
   "source": [
    "# Getting the path to the data\n",
    "file_path= 'Data/'\n",
    "files = os.listdir(file_path)\n",
    "\n",
    "file_names_without_extension = [file.split('.TXT')[0] for file in files]\n",
    "\n",
    "All_files = file_names_without_extension\n",
    "All_files\n",
    "\n"
   ]
  },
  {
   "cell_type": "code",
   "execution_count": null,
   "metadata": {},
   "outputs": [],
   "source": [
    "# ['1hr Sample 1_1812062U1',\n",
    "#  '1hr Sample 2nd measurement_1812062U1',\n",
    "#  '1hr Sample 3rd measurement_1812062U1',\n",
    "#  '24hr Sample 1_1812062U1',\n",
    "#  '24hr Sample 2nd measurement_1812062U1',\n",
    "#  '24hr Sample 3rd measurement_1812062U1',\n",
    "#  'CFO 2 1st measurement_1812062U1',\n",
    "#  'CFO 2 2nd measurement_1812062U1',\n",
    "#  'CFO 3 1st measurement_1812062U1',\n",
    "#  'CFO 3 2nd measurement_1812062U1',\n",
    "#  'CFO 4 1st measurement_1812062U1',\n",
    "#  'CFO 4 2nd measurement_1812062U1',\n",
    "#  'CFO 5 1st measurement_1812062U1',\n",
    "#  'CFO 5 2nd measurement_1812062U1']\n",
    "\n",
    "name = '24hr Sample 2nd measurement_1812062U1'  # ALways Change this part \n",
    "inputfilename = file_path + name + '.txt'\n",
    "plotfilename = file_path + name  + '.png'\n",
    "\n",
    "inputfilename"
   ]
  },
  {
   "cell_type": "code",
   "execution_count": 630,
   "metadata": {},
   "outputs": [],
   "source": [
    "# Reading in the data in txt format\n",
    "#Check for column separator (sep) and decimal separator (decimal)\n",
    "data = pd.read_csv(inputfilename, sep=';', decimal='.', header=8)\n",
    "data.columns = ['wavelength', 'spectrum', 'dark', 'reference', 'reflectance']"
   ]
  },
  {
   "cell_type": "code",
   "execution_count": null,
   "metadata": {},
   "outputs": [],
   "source": [
    "data.head()"
   ]
  },
  {
   "cell_type": "code",
   "execution_count": null,
   "metadata": {},
   "outputs": [],
   "source": [
    "# see the wavelength below 200  \n",
    "\n",
    "data.loc[data['wavelength'] > 200]"
   ]
  },
  {
   "cell_type": "code",
   "execution_count": null,
   "metadata": {},
   "outputs": [],
   "source": [
    "#The following two arrays contain the measured wavelenght and reflectance values.\n",
    "#The latter are scaled to 0 to 1.\n",
    "wavelength = np.asarray(data['wavelength'].tolist())\n",
    "reflectance = np.asarray(data['reflectance'].tolist())/100\n",
    "print(f\"Wavelength: {wavelength}\\nReflectance: {reflectance}\")"
   ]
  },
  {
   "cell_type": "code",
   "execution_count": null,
   "metadata": {},
   "outputs": [],
   "source": [
    "#All measurements below 200 nm are discarded as there is no light below that anyway.\n",
    "cutindex = np.argmax(wavelength>200.)\n",
    "wavelength = wavelength[cutindex:]\n",
    "reflectance = reflectance[cutindex:]\n",
    "print(f\"Wavelength: {wavelength}\\nReflectance: {reflectance}\")"
   ]
  },
  {
   "cell_type": "code",
   "execution_count": null,
   "metadata": {},
   "outputs": [],
   "source": [
    "#All data points with reflectance above 100% or 1 are removed.\n",
    "#Comment the following three lines out if not wanted.\n",
    "greaterone = np.argwhere(reflectance > 1.0)\n",
    "wavelength = np.delete(wavelength, greaterone)\n",
    "reflectance = np.delete(reflectance, greaterone)\n",
    "print(f\"Wavelength: {wavelength}\\nReflectance: {reflectance}\")"
   ]
  },
  {
   "cell_type": "code",
   "execution_count": null,
   "metadata": {},
   "outputs": [],
   "source": [
    "#In order to remove noise subsequent points are averaged. \n",
    "#Aver specifies how many neighboring points. Aver = 1 means no change.\n",
    "#\n",
    "aver = 2\n",
    "wave_ave = average(wavelength,aver)\n",
    "refl_ave = average(reflectance,aver)\n",
    "print(f\"Wave_ave: {wave_ave}\\nRefl_ave: {refl_ave}\")"
   ]
  },
  {
   "cell_type": "code",
   "execution_count": null,
   "metadata": {},
   "outputs": [],
   "source": [
    "#A plot of the measured data and the averaged data\n",
    "# Create the figure and specify the axes\n",
    "fig = go.Figure()\n",
    "\n",
    "# Add the scatter plot for the measured data\n",
    "fig.add_trace(go.Scatter(x=wavelength, y=reflectance*100, mode='markers', marker=dict(color='blue'), name='Measured Data'))\n",
    "\n",
    "# Set the layout for the plot\n",
    "fig.update_layout(\n",
    "    title=\"A plot of the measured data and the averaged data \" + name,\n",
    "    xaxis_title=\"Wavelength (nm)\",\n",
    "    yaxis_title=\"Diffuse Reflectance (%)\",\n",
    "    xaxis=dict(range=[400, 1050], autorange=False),\n",
    "    yaxis=dict(range=[0, 100], autorange=False, type=\"linear\")\n",
    ")\n",
    "\n",
    "# Show the plot\n",
    "fig.show()\n"
   ]
  },
  {
   "cell_type": "code",
   "execution_count": null,
   "metadata": {},
   "outputs": [],
   "source": [
    "#The reflectance is used to calculate the Tauc-Plot data.\n",
    "#Always check that the exponent in the y formula is correct for your case.\n",
    "#\n",
    "energy = np.flip(h*c*(1./wave_ave))\n",
    "alpha = np.flip((1.0 - refl_ave)**2/(2*refl_ave))\n",
    "print(f\"Energy: {energy}\\nAlpha: {alpha}\")"
   ]
  },
  {
   "cell_type": "code",
   "execution_count": null,
   "metadata": {},
   "outputs": [],
   "source": [
    "# determine the size of the energ and alpha values\n",
    "\n",
    "size = len(energy)\n",
    "print(f\"Energy: {energy}\\nAlpha: {alpha}\")\n",
    "print(f\"Size: {size}\")"
   ]
  },
  {
   "cell_type": "code",
   "execution_count": 640,
   "metadata": {},
   "outputs": [],
   "source": [
    "# # Filter invalid values for sqrt calculation\n",
    "# valid_indices = np.where(alpha * energy > 0)\n",
    "# energy_valid = energy[valid_indices]\n",
    "# alpha_valid = alpha[valid_indices]\n",
    "# y = (alpha_valid * energy_valid) ** (1. / 2)"
   ]
  },
  {
   "cell_type": "code",
   "execution_count": 641,
   "metadata": {},
   "outputs": [],
   "source": [
    "# #y = (alpha*energy)**(2)\n",
    "y = np.sqrt(np.abs(alpha * energy))\n",
    "# #The derivate of y sometimes is needed for error checking\n",
    "# yprime = np.gradient(y, energy)\n",
    "# yprime"
   ]
  },
  {
   "cell_type": "code",
   "execution_count": 642,
   "metadata": {},
   "outputs": [],
   "source": [
    "# # Ensure the lengths of energy_valid and y match\n",
    "# assert len(energy_valid) == len(y), \"Lengths of energy and y do not match\"\n",
    "assert len(energy) == len(y)"
   ]
  },
  {
   "cell_type": "markdown",
   "metadata": {},
   "source": []
  },
  {
   "cell_type": "markdown",
   "metadata": {},
   "source": [
    "## Linear regression"
   ]
  },
  {
   "cell_type": "code",
   "execution_count": 643,
   "metadata": {},
   "outputs": [],
   "source": [
    "#The next section fits a linear function to the specific start and stop energy range.\n",
    "#The bandgap and its statistical error are printed in the console.\n",
    "#\n",
    "\n",
    "# Define the percentage thresholds for start and stop fit values\n",
    "start_fit_value = 1.5\n",
    "stop_fit_value = 2.1"
   ]
  },
  {
   "cell_type": "code",
   "execution_count": 644,
   "metadata": {},
   "outputs": [],
   "source": [
    "start_fit = np.argmax(energy>start_fit_value)\n",
    "stop_fit = np.argmax(energy>stop_fit_value)-1\n",
    "fit_energy = energy[start_fit:stop_fit]\n",
    "fit_y = y[start_fit:stop_fit]"
   ]
  },
  {
   "cell_type": "code",
   "execution_count": 645,
   "metadata": {},
   "outputs": [],
   "source": [
    "# Calculate the error on the fit parameters\n",
    "popt1, pcov1 = spopt.curve_fit(linear, fit_energy, fit_y)\n",
    "perr1 = np.sqrt(np.diag(pcov1))"
   ]
  },
  {
   "cell_type": "code",
   "execution_count": null,
   "metadata": {},
   "outputs": [],
   "source": [
    "# Calculate and print bandgap\n",
    "bandgap = -popt1[1] / popt1[0]\n",
    "bandgap_error = np.sqrt((perr1[1] / popt1[0]) ** 2 + (perr1[0] * popt1[1] / popt1[0] ** 2) ** 2)\n",
    "print(f'Bandgap is equal to {bandgap:.2f} +/- {bandgap_error:.2f} eV.')"
   ]
  },
  {
   "cell_type": "code",
   "execution_count": 647,
   "metadata": {},
   "outputs": [],
   "source": [
    "# #WHAT IS THE NEXT LIONE FOr\n",
    "# print('Bandgap is equal ' + str(-popt1[1]/popt1[0]) + ' +/- ' + str(np.sqrt((perr1[1]/popt1[0])**2+(perr1[0]*popt1[1]/popt1[0]**2)**2)) + 'eV.')\n"
   ]
  },
  {
   "cell_type": "code",
   "execution_count": null,
   "metadata": {},
   "outputs": [],
   "source": [
    "# Plot Tauc plot and linear fit using Plotly\n",
    "fig2 = go.Figure()\n",
    "\n",
    "fig2.add_trace(go.Scatter(\n",
    "    x=energy,\n",
    "    y=y,\n",
    "    mode='markers',\n",
    "    name='Tauc Plot Data'\n",
    "))\n",
    "\n",
    "fig2.add_trace(go.Scatter(\n",
    "    x=fit_energy,\n",
    "    y=linear(fit_energy, *popt1),\n",
    "    mode='lines',\n",
    "    name='Linear Fit',\n",
    "    line=dict(color='red')\n",
    "))\n",
    "\n",
    "fig2.update_layout(\n",
    "    xaxis_title='Energy (eV)',\n",
    "    yaxis_title='(αhν)^(1/2) (eV^(1/2))',\n",
    "    xaxis=dict(range=[1.1, 3.0]),\n",
    "    yaxis=dict(range=[0, 5])\n",
    ")\n",
    "\n",
    "fig2.show()"
   ]
  }
 ],
 "metadata": {
  "kernelspec": {
   "display_name": "Study",
   "language": "python",
   "name": "python3"
  },
  "language_info": {
   "codemirror_mode": {
    "name": "ipython",
    "version": 3
   },
   "file_extension": ".py",
   "mimetype": "text/x-python",
   "name": "python",
   "nbconvert_exporter": "python",
   "pygments_lexer": "ipython3",
   "version": "3.11.10"
  }
 },
 "nbformat": 4,
 "nbformat_minor": 2
}
